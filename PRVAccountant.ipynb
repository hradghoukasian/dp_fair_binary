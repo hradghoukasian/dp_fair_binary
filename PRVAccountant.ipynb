{
  "nbformat": 4,
  "nbformat_minor": 0,
  "metadata": {
    "colab": {
      "provenance": []
    },
    "kernelspec": {
      "name": "python3",
      "display_name": "Python 3"
    },
    "language_info": {
      "name": "python"
    }
  },
  "cells": [
    {
      "cell_type": "code",
      "source": [
        "!pip install prv-accountant"
      ],
      "metadata": {
        "colab": {
          "base_uri": "https://localhost:8080/"
        },
        "id": "3Y2u7sKi1Hlu",
        "outputId": "3fb53701-946c-4913-8bc0-08d67fb37503"
      },
      "execution_count": 2,
      "outputs": [
        {
          "output_type": "stream",
          "name": "stdout",
          "text": [
            "Collecting prv-accountant\n",
            "  Downloading prv_accountant-0.2.0-py3-none-any.whl (21 kB)\n",
            "Requirement already satisfied: numpy in /usr/local/lib/python3.10/dist-packages (from prv-accountant) (1.25.2)\n",
            "Requirement already satisfied: scipy in /usr/local/lib/python3.10/dist-packages (from prv-accountant) (1.11.4)\n",
            "Installing collected packages: prv-accountant\n",
            "Successfully installed prv-accountant-0.2.0\n"
          ]
        }
      ]
    },
    {
      "cell_type": "markdown",
      "source": [
        "# Determine proper noise parameters based on PRV Accountant"
      ],
      "metadata": {
        "id": "JhuYv3KQ1S10"
      }
    },
    {
      "cell_type": "code",
      "execution_count": 3,
      "metadata": {
        "colab": {
          "base_uri": "https://localhost:8080/"
        },
        "id": "jTgavB4n0tuL",
        "outputId": "93ed63dc-c823-4947-ff15-d8b92e3755f9"
      },
      "outputs": [
        {
          "output_type": "stream",
          "name": "stdout",
          "text": [
            "Proper standard deviation of the Gaussian noise for Adult dataset (epsilon = 3, delta = 0.00001) is 3.13\n",
            "Proper standard deviation of the Gaussian noise for Adult dataset (epsilon = 9, delta = 0.00001) is 1.50\n",
            "Proper standard deviation of the Gaussian noise for Credit-Card dataset (epsilon = 3, delta = 0.00001) is 4.44\n",
            "Proper standard deviation of the Gaussian noise for Credit-Card dataset (epsilon = 9, delta = 0.00001) is 2.49\n"
          ]
        }
      ],
      "source": [
        "\n",
        "from prv_accountant.dpsgd import DPSGDAccountant\n",
        "from prv_accountant.dpsgd import find_noise_multiplier\n",
        "\n",
        "max_grad_norm = 1.5\n",
        "\n",
        "# num_steps: number of optimization steps (computed and printed in Algorithm2.py)\n",
        "# sampling_probability: Probability of a record being in batch (computed and printed in Algorithm2.py)\n",
        "\n",
        "# Adult eps = 3\n",
        "proper_noise_multiplier = find_noise_multiplier(sampling_probability = 0.034, num_steps = 1500, target_epsilon = 2.9 , target_delta = 1e-5)\n",
        "print(f\"Proper standard deviation of the Gaussian noise for Adult dataset (epsilon = 3, delta = 0.00001) is {proper_noise_multiplier * max_grad_norm:.2f}\")\n",
        "\n",
        "# Adult eps = 9\n",
        "proper_noise_multiplier = find_noise_multiplier(sampling_probability = 0.034, num_steps = 1500, target_epsilon = 8.9 , target_delta = 1e-5)\n",
        "print(f\"Proper standard deviation of the Gaussian noise for Adult dataset (epsilon = 9, delta = 0.00001) is {proper_noise_multiplier * max_grad_norm:.2f}\")\n",
        "\n",
        "# Credit-Card eps = 3\n",
        "proper_noise_multiplier = find_noise_multiplier(sampling_probability = 0.0683, num_steps = 750, target_epsilon = 2.8 , target_delta = 1e-5)\n",
        "print(f\"Proper standard deviation of the Gaussian noise for Credit-Card dataset (epsilon = 3, delta = 0.00001) is {proper_noise_multiplier * max_grad_norm:.2f}\")\n",
        "\n",
        "# Credit-Card eps = 9\n",
        "proper_noise_multiplier = find_noise_multiplier(sampling_probability = 0.0683, num_steps = 1500, target_epsilon = 8.8 , target_delta = 1e-5)\n",
        "print(f\"Proper standard deviation of the Gaussian noise for Credit-Card dataset (epsilon = 9, delta = 0.00001) is {proper_noise_multiplier * max_grad_norm:.2f}\")\n",
        "\n"
      ]
    }
  ]
}